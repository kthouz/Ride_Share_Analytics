{
 "cells": [
  {
   "cell_type": "code",
   "execution_count": 1,
   "metadata": {
    "collapsed": false
   },
   "outputs": [],
   "source": [
    "from rideSharingPy import UberObj as uber, LyftObj as lyft, GeoObj as geo, YelpObj as yelp\n",
    "import pandas as pd"
   ]
  },
  {
   "cell_type": "code",
   "execution_count": 2,
   "metadata": {
    "collapsed": false
   },
   "outputs": [],
   "source": [
    "# functions\n",
    "def show_uber_estimates(origin,destination):\n",
    "    data = uber().get_ride_cost(st_lat=origin[0],st_lon=origin[1],en_lat=destination[0],en_lon=destination[1])\n",
    "    estimates = []\n",
    "    for v in data:\n",
    "        t = (v['display_name'],v['distance'],v['duration'],v['low_estimate'],v['high_estimate'],v['surge_multiplier'])\n",
    "        estimates.append(t)\n",
    "    estimates = pd.DataFrame(estimates,columns=['Type','Distance','Duration','Low_cost','High_cost','Surge_X'])\n",
    "    return estimates\n",
    "\n",
    "def show_lyft_estimates(origin,destination):\n",
    "    data = lyft().get_ride_cost(st_lat=origin[0],st_lon=origin[1],en_lat=destination[0],en_lon=destination[1])\n",
    "    estimates = []\n",
    "    for v in data:\n",
    "        t = (v['display_name'],v['estimated_distance_miles'],v['estimated_duration_seconds'],\n",
    "             v['estimated_cost_cents_min']/100.,v['estimated_cost_cents_max']/100.,\n",
    "             1+float(v['primetime_percentage'].split('%')[0])/100.)\n",
    "        estimates.append(t)\n",
    "    estimates = pd.DataFrame(estimates,columns=['Type','Distance','Duration','Low_cost','High_cost','Surge_X'])\n",
    "    return estimates\n",
    "\n",
    "def show_nearby_places(street_address):\n",
    "    df = pd.DataFrame(yelp(street_address).get_places())\n",
    "    df.index = df[0].values\n",
    "    df.drop(0,axis=1,inplace=True)\n",
    "    return df.T"
   ]
  },
  {
   "cell_type": "code",
   "execution_count": null,
   "metadata": {
    "collapsed": false
   },
   "outputs": [],
   "source": [
    "orig_geo = geo(\"55 Fruit St, Boston, MA\").get_lat_lon()\n",
    "dest_geo = geo(\"415 South Street,Waltham, MA\").get_lat_lon()"
   ]
  },
  {
   "cell_type": "code",
   "execution_count": null,
   "metadata": {
    "collapsed": false
   },
   "outputs": [],
   "source": [
    "show_uber_estimates(orig_geo,dest_geo)"
   ]
  },
  {
   "cell_type": "code",
   "execution_count": null,
   "metadata": {
    "collapsed": false
   },
   "outputs": [],
   "source": [
    "show_lyft_estimates(orig_geo,dest_geo)"
   ]
  },
  {
   "cell_type": "code",
   "execution_count": null,
   "metadata": {
    "collapsed": false
   },
   "outputs": [],
   "source": [
    "yelp('17 Prospect St, Waltham, MA').get_places()"
   ]
  },
  {
   "cell_type": "code",
   "execution_count": 3,
   "metadata": {
    "collapsed": false
   },
   "outputs": [
    {
     "data": {
      "text/html": [
       "<div>\n",
       "<table border=\"1\" class=\"dataframe\">\n",
       "  <thead>\n",
       "    <tr style=\"text-align: right;\">\n",
       "      <th></th>\n",
       "      <th>collegeuniv</th>\n",
       "      <th>education</th>\n",
       "      <th>restaurants</th>\n",
       "      <th>realestate</th>\n",
       "      <th>churches</th>\n",
       "      <th>hospitals</th>\n",
       "      <th>amusementparks</th>\n",
       "      <th>parks</th>\n",
       "      <th>parking</th>\n",
       "      <th>bars</th>\n",
       "      <th>danceclubs</th>\n",
       "      <th>lounges</th>\n",
       "      <th>grocery</th>\n",
       "      <th>financialservices</th>\n",
       "    </tr>\n",
       "  </thead>\n",
       "  <tbody>\n",
       "    <tr>\n",
       "      <th>1</th>\n",
       "      <td>1</td>\n",
       "      <td>20</td>\n",
       "      <td>88</td>\n",
       "      <td>47</td>\n",
       "      <td>8</td>\n",
       "      <td>1</td>\n",
       "      <td>0</td>\n",
       "      <td>8</td>\n",
       "      <td>1</td>\n",
       "      <td>19</td>\n",
       "      <td>5</td>\n",
       "      <td>4</td>\n",
       "      <td>8</td>\n",
       "      <td>17</td>\n",
       "    </tr>\n",
       "  </tbody>\n",
       "</table>\n",
       "</div>"
      ],
      "text/plain": [
       "   collegeuniv  education  restaurants  realestate  churches  hospitals  \\\n",
       "1            1         20           88          47         8          1   \n",
       "\n",
       "   amusementparks  parks  parking  bars  danceclubs  lounges  grocery  \\\n",
       "1               0      8        1    19           5        4        8   \n",
       "\n",
       "   financialservices  \n",
       "1                 17  "
      ]
     },
     "execution_count": 3,
     "metadata": {},
     "output_type": "execute_result"
    }
   ],
   "source": [
    "show_nearby_places('Central Square,Cambridge, MA')"
   ]
  },
  {
   "cell_type": "code",
   "execution_count": null,
   "metadata": {
    "collapsed": true
   },
   "outputs": [],
   "source": []
  }
 ],
 "metadata": {
  "kernelspec": {
   "display_name": "Python 2",
   "language": "python",
   "name": "python2"
  },
  "language_info": {
   "codemirror_mode": {
    "name": "ipython",
    "version": 2
   },
   "file_extension": ".py",
   "mimetype": "text/x-python",
   "name": "python",
   "nbconvert_exporter": "python",
   "pygments_lexer": "ipython2",
   "version": "2.7.10"
  }
 },
 "nbformat": 4,
 "nbformat_minor": 0
}
