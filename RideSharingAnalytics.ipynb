{
 "cells": [
  {
   "cell_type": "code",
   "execution_count": 1,
   "metadata": {
    "collapsed": false
   },
   "outputs": [],
   "source": [
    "from rideSharingPy import UberObj as uber, LyftObj as lyft, GeoObj as geo, YelpObj as yelp\n",
    "import pandas as pd"
   ]
  },
  {
   "cell_type": "code",
   "execution_count": 2,
   "metadata": {
    "collapsed": false
   },
   "outputs": [],
   "source": [
    "# functions\n",
    "def show_uber_estimates(origin,destination):\n",
    "    data = uber().get_ride_cost(st_lat=origin[0],st_lon=origin[1],en_lat=destination[0],en_lon=destination[1])\n",
    "    estimates = []\n",
    "    for v in data:\n",
    "        t = (v['display_name'],v['distance'],v['duration'],v['low_estimate'],v['high_estimate'],v['surge_multiplier'])\n",
    "        estimates.append(t)\n",
    "    estimates = pd.DataFrame(estimates,columns=['Type','Distance','Duration','Low_cost','High_cost','Surge_X'])\n",
    "    return estimates\n",
    "\n",
    "def show_lyft_estimates(origin,destination):\n",
    "    data = lyft().get_ride_cost(st_lat=origin[0],st_lon=origin[1],en_lat=destination[0],en_lon=destination[1])\n",
    "    estimates = []\n",
    "    for v in data:\n",
    "        t = (v['display_name'],v['estimated_distance_miles'],v['estimated_duration_seconds'],\n",
    "             v['estimated_cost_cents_min']/100.,v['estimated_cost_cents_max']/100.,\n",
    "             1+float(v['primetime_percentage'].split('%')[0])/100.)\n",
    "        estimates.append(t)\n",
    "    estimates = pd.DataFrame(estimates,columns=['Type','Distance','Duration','Low_cost','High_cost','Surge_X'])\n",
    "    return estimates\n",
    "\n",
    "def show_nearby_places(street_address):\n",
    "    df = pd.DataFrame(yelp(street_address).get_places())\n",
    "    df.index = df[0].values\n",
    "    df.drop(0,axis=1,inplace=True)\n",
    "    return df.T"
   ]
  },
  {
   "cell_type": "code",
   "execution_count": 4,
   "metadata": {
    "collapsed": false
   },
   "outputs": [],
   "source": [
    "orig_geo = geo(\"55 Fruit St, Boston, MA\").get_lat_lon()\n",
    "dest_geo = geo(\"415 South Street,Waltham, MA\").get_lat_lon()"
   ]
  },
  {
   "cell_type": "code",
   "execution_count": 5,
   "metadata": {
    "collapsed": false
   },
   "outputs": [
    {
     "data": {
      "text/html": [
       "<div>\n",
       "<table border=\"1\" class=\"dataframe\">\n",
       "  <thead>\n",
       "    <tr style=\"text-align: right;\">\n",
       "      <th></th>\n",
       "      <th>Type</th>\n",
       "      <th>Distance</th>\n",
       "      <th>Duration</th>\n",
       "      <th>Low_cost</th>\n",
       "      <th>High_cost</th>\n",
       "      <th>Surge_X</th>\n",
       "    </tr>\n",
       "  </thead>\n",
       "  <tbody>\n",
       "    <tr>\n",
       "      <th>0</th>\n",
       "      <td>uberPOOL</td>\n",
       "      <td>15.88</td>\n",
       "      <td>1440</td>\n",
       "      <td>26.0</td>\n",
       "      <td>27.0</td>\n",
       "      <td>1.0</td>\n",
       "    </tr>\n",
       "    <tr>\n",
       "      <th>1</th>\n",
       "      <td>uberX</td>\n",
       "      <td>15.88</td>\n",
       "      <td>1440</td>\n",
       "      <td>27.0</td>\n",
       "      <td>36.0</td>\n",
       "      <td>1.0</td>\n",
       "    </tr>\n",
       "    <tr>\n",
       "      <th>2</th>\n",
       "      <td>uberXL</td>\n",
       "      <td>15.88</td>\n",
       "      <td>1440</td>\n",
       "      <td>49.0</td>\n",
       "      <td>64.0</td>\n",
       "      <td>1.0</td>\n",
       "    </tr>\n",
       "    <tr>\n",
       "      <th>3</th>\n",
       "      <td>UberBLACK</td>\n",
       "      <td>15.88</td>\n",
       "      <td>1440</td>\n",
       "      <td>75.0</td>\n",
       "      <td>98.0</td>\n",
       "      <td>1.0</td>\n",
       "    </tr>\n",
       "    <tr>\n",
       "      <th>4</th>\n",
       "      <td>uberSUV</td>\n",
       "      <td>15.88</td>\n",
       "      <td>1440</td>\n",
       "      <td>88.0</td>\n",
       "      <td>113.0</td>\n",
       "      <td>1.0</td>\n",
       "    </tr>\n",
       "    <tr>\n",
       "      <th>5</th>\n",
       "      <td>TAXI</td>\n",
       "      <td>15.88</td>\n",
       "      <td>1440</td>\n",
       "      <td>NaN</td>\n",
       "      <td>NaN</td>\n",
       "      <td>1.0</td>\n",
       "    </tr>\n",
       "  </tbody>\n",
       "</table>\n",
       "</div>"
      ],
      "text/plain": [
       "        Type  Distance  Duration  Low_cost  High_cost  Surge_X\n",
       "0   uberPOOL     15.88      1440      26.0       27.0      1.0\n",
       "1      uberX     15.88      1440      27.0       36.0      1.0\n",
       "2     uberXL     15.88      1440      49.0       64.0      1.0\n",
       "3  UberBLACK     15.88      1440      75.0       98.0      1.0\n",
       "4    uberSUV     15.88      1440      88.0      113.0      1.0\n",
       "5       TAXI     15.88      1440       NaN        NaN      1.0"
      ]
     },
     "execution_count": 5,
     "metadata": {},
     "output_type": "execute_result"
    }
   ],
   "source": [
    "show_uber_estimates(orig_geo,dest_geo)"
   ]
  },
  {
   "cell_type": "code",
   "execution_count": 6,
   "metadata": {
    "collapsed": false
   },
   "outputs": [
    {
     "data": {
      "text/html": [
       "<div>\n",
       "<table border=\"1\" class=\"dataframe\">\n",
       "  <thead>\n",
       "    <tr style=\"text-align: right;\">\n",
       "      <th></th>\n",
       "      <th>Type</th>\n",
       "      <th>Distance</th>\n",
       "      <th>Duration</th>\n",
       "      <th>Low_cost</th>\n",
       "      <th>High_cost</th>\n",
       "      <th>Surge_X</th>\n",
       "    </tr>\n",
       "  </thead>\n",
       "  <tbody>\n",
       "    <tr>\n",
       "      <th>0</th>\n",
       "      <td>Lyft Plus</td>\n",
       "      <td>13.22</td>\n",
       "      <td>1606</td>\n",
       "      <td>42.55</td>\n",
       "      <td>54.55</td>\n",
       "      <td>1.0</td>\n",
       "    </tr>\n",
       "    <tr>\n",
       "      <th>1</th>\n",
       "      <td>Lyft Line</td>\n",
       "      <td>13.22</td>\n",
       "      <td>1606</td>\n",
       "      <td>16.70</td>\n",
       "      <td>16.70</td>\n",
       "      <td>1.0</td>\n",
       "    </tr>\n",
       "    <tr>\n",
       "      <th>2</th>\n",
       "      <td>Lyft</td>\n",
       "      <td>13.22</td>\n",
       "      <td>1606</td>\n",
       "      <td>21.68</td>\n",
       "      <td>30.55</td>\n",
       "      <td>1.0</td>\n",
       "    </tr>\n",
       "  </tbody>\n",
       "</table>\n",
       "</div>"
      ],
      "text/plain": [
       "        Type  Distance  Duration  Low_cost  High_cost  Surge_X\n",
       "0  Lyft Plus     13.22      1606     42.55      54.55      1.0\n",
       "1  Lyft Line     13.22      1606     16.70      16.70      1.0\n",
       "2       Lyft     13.22      1606     21.68      30.55      1.0"
      ]
     },
     "execution_count": 6,
     "metadata": {},
     "output_type": "execute_result"
    }
   ],
   "source": [
    "show_lyft_estimates(orig_geo,dest_geo)"
   ]
  },
  {
   "cell_type": "code",
   "execution_count": 7,
   "metadata": {
    "collapsed": false
   },
   "outputs": [
    {
     "data": {
      "text/html": [
       "<div>\n",
       "<table border=\"1\" class=\"dataframe\">\n",
       "  <thead>\n",
       "    <tr style=\"text-align: right;\">\n",
       "      <th></th>\n",
       "      <th>collegeuniv</th>\n",
       "      <th>education</th>\n",
       "      <th>restaurants</th>\n",
       "      <th>realestate</th>\n",
       "      <th>churches</th>\n",
       "      <th>hospitals</th>\n",
       "      <th>amusementparks</th>\n",
       "      <th>parks</th>\n",
       "      <th>parking</th>\n",
       "      <th>bars</th>\n",
       "      <th>danceclubs</th>\n",
       "      <th>lounges</th>\n",
       "      <th>grocery</th>\n",
       "      <th>financialservices</th>\n",
       "    </tr>\n",
       "  </thead>\n",
       "  <tbody>\n",
       "    <tr>\n",
       "      <th>1</th>\n",
       "      <td>1</td>\n",
       "      <td>20</td>\n",
       "      <td>88</td>\n",
       "      <td>47</td>\n",
       "      <td>8</td>\n",
       "      <td>1</td>\n",
       "      <td>0</td>\n",
       "      <td>8</td>\n",
       "      <td>1</td>\n",
       "      <td>19</td>\n",
       "      <td>5</td>\n",
       "      <td>4</td>\n",
       "      <td>8</td>\n",
       "      <td>17</td>\n",
       "    </tr>\n",
       "  </tbody>\n",
       "</table>\n",
       "</div>"
      ],
      "text/plain": [
       "   collegeuniv  education  restaurants  realestate  churches  hospitals  \\\n",
       "1            1         20           88          47         8          1   \n",
       "\n",
       "   amusementparks  parks  parking  bars  danceclubs  lounges  grocery  \\\n",
       "1               0      8        1    19           5        4        8   \n",
       "\n",
       "   financialservices  \n",
       "1                 17  "
      ]
     },
     "execution_count": 7,
     "metadata": {},
     "output_type": "execute_result"
    }
   ],
   "source": [
    "show_nearby_places('Central Square,Cambridge, MA')"
   ]
  },
  {
   "cell_type": "code",
   "execution_count": null,
   "metadata": {
    "collapsed": true
   },
   "outputs": [],
   "source": [
    "from ge"
   ]
  }
 ],
 "metadata": {
  "kernelspec": {
   "display_name": "Python 2",
   "language": "python",
   "name": "python2"
  },
  "language_info": {
   "codemirror_mode": {
    "name": "ipython",
    "version": 2
   },
   "file_extension": ".py",
   "mimetype": "text/x-python",
   "name": "python",
   "nbconvert_exporter": "python",
   "pygments_lexer": "ipython2",
   "version": "2.7.10"
  }
 },
 "nbformat": 4,
 "nbformat_minor": 0
}
