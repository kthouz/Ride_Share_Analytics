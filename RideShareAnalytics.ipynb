{
 "cells": [
  {
   "cell_type": "code",
   "execution_count": 1,
   "metadata": {
    "collapsed": false
   },
   "outputs": [],
   "source": [
    "from rideShareApp import UberObj as uber, LyftObj as lyft, geoObj as geo\n",
    "import pandas as pd"
   ]
  },
  {
   "cell_type": "code",
   "execution_count": 2,
   "metadata": {
    "collapsed": false
   },
   "outputs": [],
   "source": [
    "# functions\n",
    "def show_uber_estimates(origin,destination):\n",
    "    data = uber().get_ride_cost(st_lat=origin[0],st_lon=origin[1],en_lat=destination[0],en_lon=destination[1])\n",
    "    estimates = []\n",
    "    for v in data:\n",
    "        t = (v['display_name'],v['distance'],v['duration'],v['low_estimate'],v['high_estimate'],v['surge_multiplier'])\n",
    "        estimates.append(t)\n",
    "    estimates = pd.DataFrame(estimates,columns=['Type','Distance','Duration','Low_cost','High_cost','Surge_X'])\n",
    "    return estimates\n",
    "\n",
    "def show_lyft_estimates(origin,destination):\n",
    "    data = lyft().get_ride_cost(st_lat=origin[0],st_lon=origin[1],en_lat=destination[0],en_lon=destination[1])\n",
    "    estimates = []\n",
    "    for v in data:\n",
    "        t = (v['display_name'],v['estimated_distance_miles'],v['estimated_duration_seconds'],\n",
    "             v['estimated_cost_cents_min']/100.,v['estimated_cost_cents_max']/100.,\n",
    "             1+float(v['primetime_percentage'].split('%')[0])/100.)\n",
    "        estimates.append(t)\n",
    "    estimates = pd.DataFrame(estimates,columns=['Type','Distance','Duration','Low_cost','High_cost','Surge_X'])\n",
    "    return estimates"
   ]
  },
  {
   "cell_type": "code",
   "execution_count": 3,
   "metadata": {
    "collapsed": false
   },
   "outputs": [],
   "source": [
    "orig_geo = geo(\"17 Prospect St, Waltham, MA\").get_lat_lon()\n",
    "dest_geo = geo(\"415 South Street,Waltham, MA\").get_lat_lon()"
   ]
  },
  {
   "cell_type": "code",
   "execution_count": 4,
   "metadata": {
    "collapsed": false
   },
   "outputs": [
    {
     "data": {
      "text/html": [
       "<div>\n",
       "<table border=\"1\" class=\"dataframe\">\n",
       "  <thead>\n",
       "    <tr style=\"text-align: right;\">\n",
       "      <th></th>\n",
       "      <th>Type</th>\n",
       "      <th>Distance</th>\n",
       "      <th>Duration</th>\n",
       "      <th>Low_cost</th>\n",
       "      <th>High_cost</th>\n",
       "      <th>Surge_X</th>\n",
       "    </tr>\n",
       "  </thead>\n",
       "  <tbody>\n",
       "    <tr>\n",
       "      <th>0</th>\n",
       "      <td>uberPOOL</td>\n",
       "      <td>0.22</td>\n",
       "      <td>60</td>\n",
       "      <td>6.0</td>\n",
       "      <td>7.0</td>\n",
       "      <td>1.0</td>\n",
       "    </tr>\n",
       "    <tr>\n",
       "      <th>1</th>\n",
       "      <td>uberX</td>\n",
       "      <td>0.22</td>\n",
       "      <td>60</td>\n",
       "      <td>6.0</td>\n",
       "      <td>7.0</td>\n",
       "      <td>1.0</td>\n",
       "    </tr>\n",
       "    <tr>\n",
       "      <th>2</th>\n",
       "      <td>uberXL</td>\n",
       "      <td>0.22</td>\n",
       "      <td>60</td>\n",
       "      <td>7.0</td>\n",
       "      <td>8.0</td>\n",
       "      <td>1.0</td>\n",
       "    </tr>\n",
       "    <tr>\n",
       "      <th>3</th>\n",
       "      <td>UberBLACK</td>\n",
       "      <td>0.22</td>\n",
       "      <td>60</td>\n",
       "      <td>15.0</td>\n",
       "      <td>15.0</td>\n",
       "      <td>1.0</td>\n",
       "    </tr>\n",
       "    <tr>\n",
       "      <th>4</th>\n",
       "      <td>uberSUV</td>\n",
       "      <td>0.22</td>\n",
       "      <td>60</td>\n",
       "      <td>25.0</td>\n",
       "      <td>25.0</td>\n",
       "      <td>1.0</td>\n",
       "    </tr>\n",
       "    <tr>\n",
       "      <th>5</th>\n",
       "      <td>TAXI</td>\n",
       "      <td>0.22</td>\n",
       "      <td>60</td>\n",
       "      <td>NaN</td>\n",
       "      <td>NaN</td>\n",
       "      <td>1.0</td>\n",
       "    </tr>\n",
       "  </tbody>\n",
       "</table>\n",
       "</div>"
      ],
      "text/plain": [
       "        Type  Distance  Duration  Low_cost  High_cost  Surge_X\n",
       "0   uberPOOL      0.22        60       6.0        7.0      1.0\n",
       "1      uberX      0.22        60       6.0        7.0      1.0\n",
       "2     uberXL      0.22        60       7.0        8.0      1.0\n",
       "3  UberBLACK      0.22        60      15.0       15.0      1.0\n",
       "4    uberSUV      0.22        60      25.0       25.0      1.0\n",
       "5       TAXI      0.22        60       NaN        NaN      1.0"
      ]
     },
     "execution_count": 4,
     "metadata": {},
     "output_type": "execute_result"
    }
   ],
   "source": [
    "show_uber_estimates(orig_geo,dest_geo)"
   ]
  },
  {
   "cell_type": "code",
   "execution_count": 6,
   "metadata": {
    "collapsed": false
   },
   "outputs": [
    {
     "data": {
      "text/html": [
       "<div>\n",
       "<table border=\"1\" class=\"dataframe\">\n",
       "  <thead>\n",
       "    <tr style=\"text-align: right;\">\n",
       "      <th></th>\n",
       "      <th>Type</th>\n",
       "      <th>Distance</th>\n",
       "      <th>Duration</th>\n",
       "      <th>Low_cost</th>\n",
       "      <th>High_cost</th>\n",
       "      <th>Surge_X</th>\n",
       "    </tr>\n",
       "  </thead>\n",
       "  <tbody>\n",
       "    <tr>\n",
       "      <th>0</th>\n",
       "      <td>Lyft Plus</td>\n",
       "      <td>0.23</td>\n",
       "      <td>153</td>\n",
       "      <td>7.55</td>\n",
       "      <td>9.55</td>\n",
       "      <td>1.0</td>\n",
       "    </tr>\n",
       "    <tr>\n",
       "      <th>1</th>\n",
       "      <td>Lyft Line</td>\n",
       "      <td>0.23</td>\n",
       "      <td>153</td>\n",
       "      <td>3.50</td>\n",
       "      <td>3.50</td>\n",
       "      <td>1.0</td>\n",
       "    </tr>\n",
       "    <tr>\n",
       "      <th>2</th>\n",
       "      <td>Lyft</td>\n",
       "      <td>0.23</td>\n",
       "      <td>153</td>\n",
       "      <td>6.55</td>\n",
       "      <td>6.55</td>\n",
       "      <td>1.0</td>\n",
       "    </tr>\n",
       "  </tbody>\n",
       "</table>\n",
       "</div>"
      ],
      "text/plain": [
       "        Type  Distance  Duration  Low_cost  High_cost  Surge_X\n",
       "0  Lyft Plus      0.23       153      7.55       9.55      1.0\n",
       "1  Lyft Line      0.23       153      3.50       3.50      1.0\n",
       "2       Lyft      0.23       153      6.55       6.55      1.0"
      ]
     },
     "execution_count": 6,
     "metadata": {},
     "output_type": "execute_result"
    }
   ],
   "source": [
    "show_lyft_estimates(orig_geo,dest_geo)"
   ]
  },
  {
   "cell_type": "code",
   "execution_count": null,
   "metadata": {
    "collapsed": true
   },
   "outputs": [],
   "source": []
  }
 ],
 "metadata": {
  "kernelspec": {
   "display_name": "Python 2",
   "language": "python",
   "name": "python2"
  },
  "language_info": {
   "codemirror_mode": {
    "name": "ipython",
    "version": 2
   },
   "file_extension": ".py",
   "mimetype": "text/x-python",
   "name": "python",
   "nbconvert_exporter": "python",
   "pygments_lexer": "ipython2",
   "version": "2.7.10"
  }
 },
 "nbformat": 4,
 "nbformat_minor": 0
}
